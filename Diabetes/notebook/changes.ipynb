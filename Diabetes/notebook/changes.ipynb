{
 "cells": [
  {
   "cell_type": "code",
   "execution_count": 3,
   "id": "63c59c95",
   "metadata": {},
   "outputs": [],
   "source": [
    "import pandas as pd\n",
    "import numpy as np                 "
   ]
  },
  {
   "cell_type": "markdown",
   "id": "63b23c48",
   "metadata": {},
   "source": [
    "Changing XLSX to CSV"
   ]
  },
  {
   "cell_type": "code",
   "execution_count": 2,
   "id": "22a81325",
   "metadata": {},
   "outputs": [],
   "source": [
    "df = pd.read_excel('../data/diabetes new.xlsx')\n",
    "\n",
    "df.to_csv('diabetes_conv.csv', index=False)"
   ]
  },
  {
   "cell_type": "markdown",
   "id": "edd2fff2",
   "metadata": {},
   "source": [
    "Handling impossible values (0)"
   ]
  },
  {
   "cell_type": "code",
   "execution_count": 2,
   "id": "19f1958b",
   "metadata": {},
   "outputs": [
    {
     "data": {
      "text/html": [
       "<div>\n",
       "<style scoped>\n",
       "    .dataframe tbody tr th:only-of-type {\n",
       "        vertical-align: middle;\n",
       "    }\n",
       "\n",
       "    .dataframe tbody tr th {\n",
       "        vertical-align: top;\n",
       "    }\n",
       "\n",
       "    .dataframe thead th {\n",
       "        text-align: right;\n",
       "    }\n",
       "</style>\n",
       "<table border=\"1\" class=\"dataframe\">\n",
       "  <thead>\n",
       "    <tr style=\"text-align: right;\">\n",
       "      <th></th>\n",
       "      <th>Age</th>\n",
       "      <th>Pregnancies</th>\n",
       "      <th>Glucose</th>\n",
       "      <th>BloodPressure (mg/dL)</th>\n",
       "      <th>SkinThickness</th>\n",
       "      <th>Insulin</th>\n",
       "      <th>BMI</th>\n",
       "      <th>DiabetesPedigreeFunction</th>\n",
       "    </tr>\n",
       "  </thead>\n",
       "  <tbody>\n",
       "    <tr>\n",
       "      <th>0</th>\n",
       "      <td>50</td>\n",
       "      <td>6</td>\n",
       "      <td>148</td>\n",
       "      <td>72</td>\n",
       "      <td>35</td>\n",
       "      <td>0</td>\n",
       "      <td>33.6</td>\n",
       "      <td>627.000</td>\n",
       "    </tr>\n",
       "    <tr>\n",
       "      <th>1</th>\n",
       "      <td>31</td>\n",
       "      <td>1</td>\n",
       "      <td>85</td>\n",
       "      <td>66</td>\n",
       "      <td>29</td>\n",
       "      <td>0</td>\n",
       "      <td>26.6</td>\n",
       "      <td>351.000</td>\n",
       "    </tr>\n",
       "    <tr>\n",
       "      <th>2</th>\n",
       "      <td>32</td>\n",
       "      <td>8</td>\n",
       "      <td>183</td>\n",
       "      <td>64</td>\n",
       "      <td>0</td>\n",
       "      <td>0</td>\n",
       "      <td>23.3</td>\n",
       "      <td>672.000</td>\n",
       "    </tr>\n",
       "    <tr>\n",
       "      <th>3</th>\n",
       "      <td>21</td>\n",
       "      <td>1</td>\n",
       "      <td>1</td>\n",
       "      <td>66</td>\n",
       "      <td>23</td>\n",
       "      <td>94</td>\n",
       "      <td>28.1</td>\n",
       "      <td>167.000</td>\n",
       "    </tr>\n",
       "    <tr>\n",
       "      <th>4</th>\n",
       "      <td>33</td>\n",
       "      <td>0</td>\n",
       "      <td>137</td>\n",
       "      <td>40</td>\n",
       "      <td>35</td>\n",
       "      <td>168</td>\n",
       "      <td>43.1</td>\n",
       "      <td>2.288</td>\n",
       "    </tr>\n",
       "  </tbody>\n",
       "</table>\n",
       "</div>"
      ],
      "text/plain": [
       "   Age  Pregnancies  Glucose  BloodPressure (mg/dL)  SkinThickness  Insulin  \\\n",
       "0   50            6      148                     72             35        0   \n",
       "1   31            1       85                     66             29        0   \n",
       "2   32            8      183                     64              0        0   \n",
       "3   21            1        1                     66             23       94   \n",
       "4   33            0      137                     40             35      168   \n",
       "\n",
       "    BMI  DiabetesPedigreeFunction  \n",
       "0  33.6                   627.000  \n",
       "1  26.6                   351.000  \n",
       "2  23.3                   672.000  \n",
       "3  28.1                   167.000  \n",
       "4  43.1                     2.288  "
      ]
     },
     "execution_count": 2,
     "metadata": {},
     "output_type": "execute_result"
    }
   ],
   "source": [
    "df = pd.read_csv('../data/diabetes_conv.csv')\n",
    "df.head()"
   ]
  },
  {
   "cell_type": "code",
   "execution_count": 5,
   "id": "40a59b56",
   "metadata": {},
   "outputs": [
    {
     "name": "stdout",
     "output_type": "stream",
     "text": [
      "BMI column: Values == 0 imputed with the median 32.3\n",
      "Glucose column: Values == 0 imputed with the median 117.0\n",
      "BloodPressure (mg/dL) column: Values == 0 imputed with the median 72.0\n",
      "SkinThickness column: Values == 0 imputed with the median 29.0\n",
      "Insulin column: Values == 0 imputed with the median 125.0\n",
      "Imputation process completed!\n"
     ]
    }
   ],
   "source": [
    "columns = ['BMI','Glucose','BloodPressure (mg/dL)','SkinThickness','Insulin']\n",
    "for col in columns:\n",
    "    median = df.loc[df[col] > 0, col].median()\n",
    "    df.loc[df[col] == 0, col] = median\n",
    "    print(f'{col} column: Values == 0 imputed with the median {median}')\n",
    "print(f'Imputation process completed!')"
   ]
  },
  {
   "cell_type": "code",
   "execution_count": 6,
   "id": "99308b42",
   "metadata": {},
   "outputs": [
    {
     "name": "stdout",
     "output_type": "stream",
     "text": [
      "CSV updated!\n"
     ]
    }
   ],
   "source": [
    "df.to_csv('../data/diabetes_conv.csv', index=False)\n",
    "print(f'CSV updated!')"
   ]
  }
 ],
 "metadata": {
  "kernelspec": {
   "display_name": "ML",
   "language": "python",
   "name": "python3"
  },
  "language_info": {
   "codemirror_mode": {
    "name": "ipython",
    "version": 3
   },
   "file_extension": ".py",
   "mimetype": "text/x-python",
   "name": "python",
   "nbconvert_exporter": "python",
   "pygments_lexer": "ipython3",
   "version": "3.12.9"
  }
 },
 "nbformat": 4,
 "nbformat_minor": 5
}
